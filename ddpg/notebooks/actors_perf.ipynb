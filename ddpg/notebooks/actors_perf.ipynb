{
 "cells": [
  {
   "cell_type": "code",
   "execution_count": 13,
   "metadata": {},
   "outputs": [
    {
     "name": "stderr",
     "output_type": "stream",
     "text": [
      "[2017-11-15 13:30:11,980] Making new env: MountainCarContinuous-v1\n"
     ]
    },
    {
     "name": "stdout",
     "output_type": "stream",
     "text": [
      "\u001b[31mOverwriting ./experiments/toto/100.0/1/\u001b[0m\n"
     ]
    }
   ],
   "source": [
    "import numpy as np\n",
    "#from rl.agents.ddpg import DDPGAgent\n",
    "from rl.agents.ddpg import DDPGAgent\n",
    "from rl.memory import SimpleMemory\n",
    "from rl.random import OrnsteinUhlenbeckProcess\n",
    "from perf_config_mcc import PerfConfig\n",
    "from lib.actor import build_actor\n",
    "from lib.critic import build_critic\n",
    "from rl.runtime.experiment import Experiment\n",
    "from rl.utils.printer import print_info\n",
    "import os\n",
    "\n",
    "# Configuration\n",
    "config = PerfConfig()\n",
    "\n",
    "debug = config.debug\n",
    "if debug:\n",
    "    tensorboard = True\n",
    "    render = True\n",
    "    plots = True\n",
    "else:\n",
    "    plots = False\n",
    "    tensorboard = False\n",
    "    render = False\n",
    "    \n",
    "env = config.env\n",
    "if not config.random_seed:\n",
    "    np.random.seed(123)\n",
    "    env.seed(123)    \n",
    "\n",
    "critic = build_critic(env, network_type=config.critic_type)\n",
    "\n",
    "trial = 1\n",
    "delta_clip = 100.0\n",
    "    \n",
    "experiment = Experiment(\"toto/{}/{}\".format(delta_clip, trial), force=True)\n",
    "\n",
    "# Memory\n",
    "memory = SimpleMemory.from_file(env=env, limit=1000000, file_path=config.memory_path)\n",
    "\n",
    "# Noise\n",
    "random_process = OrnsteinUhlenbeckProcess(size=env.action_space.dim, theta=.15, mu=0., sigma=config.noise_sigma)\n"
   ]
  },
  {
   "cell_type": "code",
   "execution_count": 14,
   "metadata": {
    "scrolled": false
   },
   "outputs": [
    {
     "name": "stdout",
     "output_type": "stream",
     "text": [
      "delta-clip : 100.0\n",
      "INFO:tensorflow:Summary name actor/dense_28/kernel:0/gradient_norm is illegal; using actor/dense_28/kernel_0/gradient_norm instead.\n"
     ]
    },
    {
     "name": "stderr",
     "output_type": "stream",
     "text": [
      "[2017-11-15 13:30:15,611] Summary name actor/dense_28/kernel:0/gradient_norm is illegal; using actor/dense_28/kernel_0/gradient_norm instead.\n"
     ]
    },
    {
     "name": "stdout",
     "output_type": "stream",
     "text": [
      "INFO:tensorflow:Summary name actor/dense_28/bias:0/gradient_norm is illegal; using actor/dense_28/bias_0/gradient_norm instead.\n"
     ]
    },
    {
     "name": "stderr",
     "output_type": "stream",
     "text": [
      "[2017-11-15 13:30:15,613] Summary name actor/dense_28/bias:0/gradient_norm is illegal; using actor/dense_28/bias_0/gradient_norm instead.\n"
     ]
    },
    {
     "name": "stdout",
     "output_type": "stream",
     "text": [
      "INFO:tensorflow:Summary name actor/dense_29/kernel:0/gradient_norm is illegal; using actor/dense_29/kernel_0/gradient_norm instead.\n"
     ]
    },
    {
     "name": "stderr",
     "output_type": "stream",
     "text": [
      "[2017-11-15 13:30:15,616] Summary name actor/dense_29/kernel:0/gradient_norm is illegal; using actor/dense_29/kernel_0/gradient_norm instead.\n"
     ]
    },
    {
     "name": "stdout",
     "output_type": "stream",
     "text": [
      "INFO:tensorflow:Summary name actor/dense_29/bias:0/gradient_norm is illegal; using actor/dense_29/bias_0/gradient_norm instead.\n"
     ]
    },
    {
     "name": "stderr",
     "output_type": "stream",
     "text": [
      "[2017-11-15 13:30:15,619] Summary name actor/dense_29/bias:0/gradient_norm is illegal; using actor/dense_29/bias_0/gradient_norm instead.\n"
     ]
    },
    {
     "name": "stdout",
     "output_type": "stream",
     "text": [
      "INFO:tensorflow:Summary name actor/dense_30/kernel:0/gradient_norm is illegal; using actor/dense_30/kernel_0/gradient_norm instead.\n"
     ]
    },
    {
     "name": "stderr",
     "output_type": "stream",
     "text": [
      "[2017-11-15 13:30:15,622] Summary name actor/dense_30/kernel:0/gradient_norm is illegal; using actor/dense_30/kernel_0/gradient_norm instead.\n"
     ]
    },
    {
     "name": "stdout",
     "output_type": "stream",
     "text": [
      "INFO:tensorflow:Summary name actor/dense_30/bias:0/gradient_norm is illegal; using actor/dense_30/bias_0/gradient_norm instead.\n"
     ]
    },
    {
     "name": "stderr",
     "output_type": "stream",
     "text": [
      "[2017-11-15 13:30:15,624] Summary name actor/dense_30/bias:0/gradient_norm is illegal; using actor/dense_30/bias_0/gradient_norm instead.\n"
     ]
    },
    {
     "name": "stdout",
     "output_type": "stream",
     "text": [
      "INFO:tensorflow:Summary name actor/dense_28/kernel:0/norm is illegal; using actor/dense_28/kernel_0/norm instead.\n"
     ]
    },
    {
     "name": "stderr",
     "output_type": "stream",
     "text": [
      "[2017-11-15 13:30:15,628] Summary name actor/dense_28/kernel:0/norm is illegal; using actor/dense_28/kernel_0/norm instead.\n"
     ]
    },
    {
     "name": "stdout",
     "output_type": "stream",
     "text": [
      "INFO:tensorflow:Summary name actor/dense_28/bias:0/norm is illegal; using actor/dense_28/bias_0/norm instead.\n"
     ]
    },
    {
     "name": "stderr",
     "output_type": "stream",
     "text": [
      "[2017-11-15 13:30:15,631] Summary name actor/dense_28/bias:0/norm is illegal; using actor/dense_28/bias_0/norm instead.\n"
     ]
    },
    {
     "name": "stdout",
     "output_type": "stream",
     "text": [
      "INFO:tensorflow:Summary name actor/dense_29/kernel:0/norm is illegal; using actor/dense_29/kernel_0/norm instead.\n"
     ]
    },
    {
     "name": "stderr",
     "output_type": "stream",
     "text": [
      "[2017-11-15 13:30:15,633] Summary name actor/dense_29/kernel:0/norm is illegal; using actor/dense_29/kernel_0/norm instead.\n"
     ]
    },
    {
     "name": "stdout",
     "output_type": "stream",
     "text": [
      "INFO:tensorflow:Summary name actor/dense_29/bias:0/norm is illegal; using actor/dense_29/bias_0/norm instead.\n"
     ]
    },
    {
     "name": "stderr",
     "output_type": "stream",
     "text": [
      "[2017-11-15 13:30:15,636] Summary name actor/dense_29/bias:0/norm is illegal; using actor/dense_29/bias_0/norm instead.\n"
     ]
    },
    {
     "name": "stdout",
     "output_type": "stream",
     "text": [
      "INFO:tensorflow:Summary name actor/dense_30/kernel:0/norm is illegal; using actor/dense_30/kernel_0/norm instead.\n"
     ]
    },
    {
     "name": "stderr",
     "output_type": "stream",
     "text": [
      "[2017-11-15 13:30:15,640] Summary name actor/dense_30/kernel:0/norm is illegal; using actor/dense_30/kernel_0/norm instead.\n"
     ]
    },
    {
     "name": "stdout",
     "output_type": "stream",
     "text": [
      "INFO:tensorflow:Summary name actor/dense_30/bias:0/norm is illegal; using actor/dense_30/bias_0/norm instead.\n"
     ]
    },
    {
     "name": "stderr",
     "output_type": "stream",
     "text": [
      "[2017-11-15 13:30:15,643] Summary name actor/dense_30/bias:0/norm is illegal; using actor/dense_30/bias_0/norm instead.\n"
     ]
    },
    {
     "name": "stdout",
     "output_type": "stream",
     "text": [
      "INFO:tensorflow:Summary name target_actor/dense_25_1/kernel:0/norm is illegal; using target_actor/dense_25_1/kernel_0/norm instead.\n"
     ]
    },
    {
     "name": "stderr",
     "output_type": "stream",
     "text": [
      "[2017-11-15 13:30:15,647] Summary name target_actor/dense_25_1/kernel:0/norm is illegal; using target_actor/dense_25_1/kernel_0/norm instead.\n"
     ]
    },
    {
     "name": "stdout",
     "output_type": "stream",
     "text": [
      "INFO:tensorflow:Summary name target_actor/dense_25_1/bias:0/norm is illegal; using target_actor/dense_25_1/bias_0/norm instead.\n"
     ]
    },
    {
     "name": "stderr",
     "output_type": "stream",
     "text": [
      "[2017-11-15 13:30:15,650] Summary name target_actor/dense_25_1/bias:0/norm is illegal; using target_actor/dense_25_1/bias_0/norm instead.\n"
     ]
    },
    {
     "name": "stdout",
     "output_type": "stream",
     "text": [
      "INFO:tensorflow:Summary name target_actor/dense_26_1/kernel:0/norm is illegal; using target_actor/dense_26_1/kernel_0/norm instead.\n"
     ]
    },
    {
     "name": "stderr",
     "output_type": "stream",
     "text": [
      "[2017-11-15 13:30:15,652] Summary name target_actor/dense_26_1/kernel:0/norm is illegal; using target_actor/dense_26_1/kernel_0/norm instead.\n"
     ]
    },
    {
     "name": "stdout",
     "output_type": "stream",
     "text": [
      "INFO:tensorflow:Summary name target_actor/dense_26_1/bias:0/norm is illegal; using target_actor/dense_26_1/bias_0/norm instead.\n"
     ]
    },
    {
     "name": "stderr",
     "output_type": "stream",
     "text": [
      "[2017-11-15 13:30:15,654] Summary name target_actor/dense_26_1/bias:0/norm is illegal; using target_actor/dense_26_1/bias_0/norm instead.\n"
     ]
    },
    {
     "name": "stdout",
     "output_type": "stream",
     "text": [
      "INFO:tensorflow:Summary name target_actor/dense_27_1/kernel:0/norm is illegal; using target_actor/dense_27_1/kernel_0/norm instead.\n"
     ]
    },
    {
     "name": "stderr",
     "output_type": "stream",
     "text": [
      "[2017-11-15 13:30:15,656] Summary name target_actor/dense_27_1/kernel:0/norm is illegal; using target_actor/dense_27_1/kernel_0/norm instead.\n"
     ]
    },
    {
     "name": "stdout",
     "output_type": "stream",
     "text": [
      "INFO:tensorflow:Summary name target_actor/dense_27_1/bias:0/norm is illegal; using target_actor/dense_27_1/bias_0/norm instead.\n"
     ]
    },
    {
     "name": "stderr",
     "output_type": "stream",
     "text": [
      "[2017-11-15 13:30:15,657] Summary name target_actor/dense_27_1/bias:0/norm is illegal; using target_actor/dense_27_1/bias_0/norm instead.\n"
     ]
    },
    {
     "name": "stdout",
     "output_type": "stream",
     "text": [
      "INFO:tensorflow:Summary name critic/dense_25/kernel:0/gradient_norm is illegal; using critic/dense_25/kernel_0/gradient_norm instead.\n"
     ]
    },
    {
     "name": "stderr",
     "output_type": "stream",
     "text": [
      "[2017-11-15 13:30:15,662] Summary name critic/dense_25/kernel:0/gradient_norm is illegal; using critic/dense_25/kernel_0/gradient_norm instead.\n"
     ]
    },
    {
     "name": "stdout",
     "output_type": "stream",
     "text": [
      "INFO:tensorflow:Summary name critic/dense_25/bias:0/gradient_norm is illegal; using critic/dense_25/bias_0/gradient_norm instead.\n"
     ]
    },
    {
     "name": "stderr",
     "output_type": "stream",
     "text": [
      "[2017-11-15 13:30:15,664] Summary name critic/dense_25/bias:0/gradient_norm is illegal; using critic/dense_25/bias_0/gradient_norm instead.\n"
     ]
    },
    {
     "name": "stdout",
     "output_type": "stream",
     "text": [
      "INFO:tensorflow:Summary name critic/dense_26/kernel:0/gradient_norm is illegal; using critic/dense_26/kernel_0/gradient_norm instead.\n"
     ]
    },
    {
     "name": "stderr",
     "output_type": "stream",
     "text": [
      "[2017-11-15 13:30:15,666] Summary name critic/dense_26/kernel:0/gradient_norm is illegal; using critic/dense_26/kernel_0/gradient_norm instead.\n"
     ]
    },
    {
     "name": "stdout",
     "output_type": "stream",
     "text": [
      "INFO:tensorflow:Summary name critic/dense_26/bias:0/gradient_norm is illegal; using critic/dense_26/bias_0/gradient_norm instead.\n"
     ]
    },
    {
     "name": "stderr",
     "output_type": "stream",
     "text": [
      "[2017-11-15 13:30:15,669] Summary name critic/dense_26/bias:0/gradient_norm is illegal; using critic/dense_26/bias_0/gradient_norm instead.\n"
     ]
    },
    {
     "name": "stdout",
     "output_type": "stream",
     "text": [
      "INFO:tensorflow:Summary name critic/dense_27/kernel:0/gradient_norm is illegal; using critic/dense_27/kernel_0/gradient_norm instead.\n"
     ]
    },
    {
     "name": "stderr",
     "output_type": "stream",
     "text": [
      "[2017-11-15 13:30:15,671] Summary name critic/dense_27/kernel:0/gradient_norm is illegal; using critic/dense_27/kernel_0/gradient_norm instead.\n"
     ]
    },
    {
     "name": "stdout",
     "output_type": "stream",
     "text": [
      "INFO:tensorflow:Summary name critic/dense_27/bias:0/gradient_norm is illegal; using critic/dense_27/bias_0/gradient_norm instead.\n"
     ]
    },
    {
     "name": "stderr",
     "output_type": "stream",
     "text": [
      "[2017-11-15 13:30:15,674] Summary name critic/dense_27/bias:0/gradient_norm is illegal; using critic/dense_27/bias_0/gradient_norm instead.\n"
     ]
    },
    {
     "name": "stdout",
     "output_type": "stream",
     "text": [
      "INFO:tensorflow:Summary name critic/dense_25/kernel:0/norm is illegal; using critic/dense_25/kernel_0/norm instead.\n"
     ]
    },
    {
     "name": "stderr",
     "output_type": "stream",
     "text": [
      "[2017-11-15 13:30:15,679] Summary name critic/dense_25/kernel:0/norm is illegal; using critic/dense_25/kernel_0/norm instead.\n"
     ]
    },
    {
     "name": "stdout",
     "output_type": "stream",
     "text": [
      "INFO:tensorflow:Summary name critic/dense_25/bias:0/norm is illegal; using critic/dense_25/bias_0/norm instead.\n"
     ]
    },
    {
     "name": "stderr",
     "output_type": "stream",
     "text": [
      "[2017-11-15 13:30:15,681] Summary name critic/dense_25/bias:0/norm is illegal; using critic/dense_25/bias_0/norm instead.\n"
     ]
    },
    {
     "name": "stdout",
     "output_type": "stream",
     "text": [
      "INFO:tensorflow:Summary name critic/dense_26/kernel:0/norm is illegal; using critic/dense_26/kernel_0/norm instead.\n"
     ]
    },
    {
     "name": "stderr",
     "output_type": "stream",
     "text": [
      "[2017-11-15 13:30:15,685] Summary name critic/dense_26/kernel:0/norm is illegal; using critic/dense_26/kernel_0/norm instead.\n"
     ]
    },
    {
     "name": "stdout",
     "output_type": "stream",
     "text": [
      "INFO:tensorflow:Summary name critic/dense_26/bias:0/norm is illegal; using critic/dense_26/bias_0/norm instead.\n"
     ]
    },
    {
     "name": "stderr",
     "output_type": "stream",
     "text": [
      "[2017-11-15 13:30:15,689] Summary name critic/dense_26/bias:0/norm is illegal; using critic/dense_26/bias_0/norm instead.\n"
     ]
    },
    {
     "name": "stdout",
     "output_type": "stream",
     "text": [
      "INFO:tensorflow:Summary name critic/dense_27/kernel:0/norm is illegal; using critic/dense_27/kernel_0/norm instead.\n"
     ]
    },
    {
     "name": "stderr",
     "output_type": "stream",
     "text": [
      "[2017-11-15 13:30:15,691] Summary name critic/dense_27/kernel:0/norm is illegal; using critic/dense_27/kernel_0/norm instead.\n"
     ]
    },
    {
     "name": "stdout",
     "output_type": "stream",
     "text": [
      "INFO:tensorflow:Summary name critic/dense_27/bias:0/norm is illegal; using critic/dense_27/bias_0/norm instead.\n"
     ]
    },
    {
     "name": "stderr",
     "output_type": "stream",
     "text": [
      "[2017-11-15 13:30:15,694] Summary name critic/dense_27/bias:0/norm is illegal; using critic/dense_27/bias_0/norm instead.\n"
     ]
    },
    {
     "name": "stdout",
     "output_type": "stream",
     "text": [
      "INFO:tensorflow:Summary name target_critic/dense_25_1/kernel:0/norm is illegal; using target_critic/dense_25_1/kernel_0/norm instead.\n"
     ]
    },
    {
     "name": "stderr",
     "output_type": "stream",
     "text": [
      "[2017-11-15 13:30:15,696] Summary name target_critic/dense_25_1/kernel:0/norm is illegal; using target_critic/dense_25_1/kernel_0/norm instead.\n"
     ]
    },
    {
     "name": "stdout",
     "output_type": "stream",
     "text": [
      "INFO:tensorflow:Summary name target_critic/dense_25_1/bias:0/norm is illegal; using target_critic/dense_25_1/bias_0/norm instead.\n"
     ]
    },
    {
     "name": "stderr",
     "output_type": "stream",
     "text": [
      "[2017-11-15 13:30:15,698] Summary name target_critic/dense_25_1/bias:0/norm is illegal; using target_critic/dense_25_1/bias_0/norm instead.\n"
     ]
    },
    {
     "name": "stdout",
     "output_type": "stream",
     "text": [
      "INFO:tensorflow:Summary name target_critic/dense_26_1/kernel:0/norm is illegal; using target_critic/dense_26_1/kernel_0/norm instead.\n"
     ]
    },
    {
     "name": "stderr",
     "output_type": "stream",
     "text": [
      "[2017-11-15 13:30:15,700] Summary name target_critic/dense_26_1/kernel:0/norm is illegal; using target_critic/dense_26_1/kernel_0/norm instead.\n"
     ]
    },
    {
     "name": "stdout",
     "output_type": "stream",
     "text": [
      "INFO:tensorflow:Summary name target_critic/dense_26_1/bias:0/norm is illegal; using target_critic/dense_26_1/bias_0/norm instead.\n"
     ]
    },
    {
     "name": "stderr",
     "output_type": "stream",
     "text": [
      "[2017-11-15 13:30:15,703] Summary name target_critic/dense_26_1/bias:0/norm is illegal; using target_critic/dense_26_1/bias_0/norm instead.\n"
     ]
    },
    {
     "name": "stdout",
     "output_type": "stream",
     "text": [
      "INFO:tensorflow:Summary name target_critic/dense_27_1/kernel:0/norm is illegal; using target_critic/dense_27_1/kernel_0/norm instead.\n"
     ]
    },
    {
     "name": "stderr",
     "output_type": "stream",
     "text": [
      "[2017-11-15 13:30:15,705] Summary name target_critic/dense_27_1/kernel:0/norm is illegal; using target_critic/dense_27_1/kernel_0/norm instead.\n"
     ]
    },
    {
     "name": "stdout",
     "output_type": "stream",
     "text": [
      "INFO:tensorflow:Summary name target_critic/dense_27_1/bias:0/norm is illegal; using target_critic/dense_27_1/bias_0/norm instead.\n"
     ]
    },
    {
     "name": "stderr",
     "output_type": "stream",
     "text": [
      "[2017-11-15 13:30:15,708] Summary name target_critic/dense_27_1/bias:0/norm is illegal; using target_critic/dense_27_1/bias_0/norm instead.\n"
     ]
    },
    {
     "ename": "AttributeError",
     "evalue": "Layer model_9 has multiple inbound nodes, hence the notion of \"layer output\" is ill-defined. Use `get_output_at(node_index)` instead.",
     "output_type": "error",
     "traceback": [
      "\u001b[0;31m---------------------------------------------------------------------------\u001b[0m",
      "\u001b[0;31mAttributeError\u001b[0m                            Traceback (most recent call last)",
      "\u001b[0;32m<ipython-input-14-d0d7a9c5a446>\u001b[0m in \u001b[0;36m<module>\u001b[0;34m()\u001b[0m\n\u001b[1;32m     21\u001b[0m         \u001b[0mcritic_gradient_clip\u001b[0m \u001b[0;34m=\u001b[0m \u001b[0mdelta_clip\u001b[0m\u001b[0;34m,\u001b[0m\u001b[0;34m\u001b[0m\u001b[0m\n\u001b[1;32m     22\u001b[0m         \u001b[0mwarmup_critic_steps\u001b[0m\u001b[0;34m=\u001b[0m\u001b[0;36m200\u001b[0m\u001b[0;34m,\u001b[0m\u001b[0;34m\u001b[0m\u001b[0m\n\u001b[0;32m---> 23\u001b[0;31m         \u001b[0mwarmup_actor_steps\u001b[0m\u001b[0;34m=\u001b[0m\u001b[0;36m200\u001b[0m\u001b[0;34m\u001b[0m\u001b[0m\n\u001b[0m\u001b[1;32m     24\u001b[0m     )\n\u001b[1;32m     25\u001b[0m     \u001b[0magent\u001b[0m\u001b[0;34m.\u001b[0m\u001b[0mcompile\u001b[0m\u001b[0;34m(\u001b[0m\u001b[0;34m)\u001b[0m\u001b[0;34m\u001b[0m\u001b[0m\n",
      "\u001b[0;32m~/Bureau/sigaud/Recherche/Stages/Manceron/vinci/rl/agents/ddpg.py\u001b[0m in \u001b[0;36m__init__\u001b[0;34m(self, actor, critic, memory, gamma, batch_size, train_interval, memory_interval, critic_gradient_clip, random_process, custom_model_objects, warmup_actor_steps, warmup_critic_steps, invert_gradients, gradient_inverter_min, gradient_inverter_max, actor_reset_threshold, reset_controlers, actor_learning_rate, critic_learning_rate, target_critic_update, target_actor_update, critic_regularization, tensorboard_collect_all, **kwargs)\u001b[0m\n\u001b[1;32m     70\u001b[0m                 \u001b[0;34m'Actor \"{}\" has more than one output. DDPG expects an actor that has a single output.'\u001b[0m\u001b[0;34m.\u001b[0m\u001b[0;34m\u001b[0m\u001b[0m\n\u001b[1;32m     71\u001b[0m                 format(actor))\n\u001b[0;32m---> 72\u001b[0;31m         \u001b[0;32mif\u001b[0m \u001b[0mhasattr\u001b[0m\u001b[0;34m(\u001b[0m\u001b[0mcritic\u001b[0m\u001b[0;34m.\u001b[0m\u001b[0moutput\u001b[0m\u001b[0;34m,\u001b[0m \u001b[0;34m'__len__'\u001b[0m\u001b[0;34m)\u001b[0m \u001b[0;32mand\u001b[0m \u001b[0mlen\u001b[0m\u001b[0;34m(\u001b[0m\u001b[0mcritic\u001b[0m\u001b[0;34m.\u001b[0m\u001b[0moutput\u001b[0m\u001b[0;34m)\u001b[0m \u001b[0;34m>\u001b[0m \u001b[0;36m1\u001b[0m\u001b[0;34m:\u001b[0m\u001b[0;34m\u001b[0m\u001b[0m\n\u001b[0m\u001b[1;32m     73\u001b[0m             raise ValueError(\n\u001b[1;32m     74\u001b[0m                 \u001b[0;34m'Critic \"{}\" has more than one output. DDPG expects a critic that has a single output.'\u001b[0m\u001b[0;34m.\u001b[0m\u001b[0;34m\u001b[0m\u001b[0m\n",
      "\u001b[0;32m~/miniconda3/lib/python3.6/site-packages/keras/engine/topology.py\u001b[0m in \u001b[0;36moutput\u001b[0;34m(self)\u001b[0m\n\u001b[1;32m    952\u001b[0m         \u001b[0;32mif\u001b[0m \u001b[0mlen\u001b[0m\u001b[0;34m(\u001b[0m\u001b[0mself\u001b[0m\u001b[0;34m.\u001b[0m\u001b[0minbound_nodes\u001b[0m\u001b[0;34m)\u001b[0m \u001b[0;34m>\u001b[0m \u001b[0;36m1\u001b[0m\u001b[0;34m:\u001b[0m\u001b[0;34m\u001b[0m\u001b[0m\n\u001b[1;32m    953\u001b[0m             raise AttributeError('Layer ' + self.name +\n\u001b[0;32m--> 954\u001b[0;31m                                  \u001b[0;34m' has multiple inbound nodes, '\u001b[0m\u001b[0;34m\u001b[0m\u001b[0m\n\u001b[0m\u001b[1;32m    955\u001b[0m                                  \u001b[0;34m'hence the notion of \"layer output\" '\u001b[0m\u001b[0;34m\u001b[0m\u001b[0m\n\u001b[1;32m    956\u001b[0m                                  \u001b[0;34m'is ill-defined. '\u001b[0m\u001b[0;34m\u001b[0m\u001b[0m\n",
      "\u001b[0;31mAttributeError\u001b[0m: Layer model_9 has multiple inbound nodes, hence the notion of \"layer output\" is ill-defined. Use `get_output_at(node_index)` instead."
     ]
    }
   ],
   "source": [
    "actors_root = \"./actors/\"\n",
    "cpt = 0\n",
    "for actor_name in os.listdir(actors_root):\n",
    "    actor = build_actor(env, network_type=config.actor_type) \n",
    "    actor.load_weights(actors_root + actor_name)\n",
    "    \n",
    "    # Agent\n",
    "    agent = DDPGAgent(\n",
    "        actor=actor,\n",
    "        critic=critic,\n",
    "        env=env,\n",
    "        memory=memory,\n",
    "        random_process=random_process,\n",
    "        batch_size=config.batch_size,\n",
    "        gamma=config.gamma,\n",
    "        target_actor_update=config.target_actor_update,\n",
    "        target_critic_update=config.target_critic_update,\n",
    "        experiment=experiment,\n",
    "        reset_controlers=config.grad_reset,\n",
    "        actor_reset_threshold=config.actor_reset_threshold,\n",
    "        critic_gradient_clip = delta_clip,\n",
    "        warmup_critic_steps=200,\n",
    "        warmup_actor_steps=200\n",
    "    )\n",
    "    agent.compile()\n",
    "\n",
    "    # Test the agent at the beginning of the experiment\n",
    "    agent.test(\n",
    "        env=env,\n",
    "        episodes=10,\n",
    "        visualize=False,\n",
    "        verbosity=0,\n",
    "        nb_max_episode_steps=200,\n",
    "        tensorboard=False,\n",
    "        plots=False)\n",
    "\n",
    "\n"
   ]
  }
 ],
 "metadata": {
  "kernelspec": {
   "display_name": "Python 3",
   "language": "python",
   "name": "python3"
  },
  "language_info": {
   "codemirror_mode": {
    "name": "ipython",
    "version": 3
   },
   "file_extension": ".py",
   "mimetype": "text/x-python",
   "name": "python",
   "nbconvert_exporter": "python",
   "pygments_lexer": "ipython3",
   "version": "3.6.2"
  }
 },
 "nbformat": 4,
 "nbformat_minor": 2
}
