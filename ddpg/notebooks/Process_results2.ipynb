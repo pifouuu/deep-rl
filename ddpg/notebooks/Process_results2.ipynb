{
 "cells": [
  {
   "cell_type": "code",
   "execution_count": 1,
   "metadata": {},
   "outputs": [],
   "source": [
    "%matplotlib inline\n",
    "import json\n",
    "import numpy as np\n",
    "import glob\n",
    "import matplotlib.pyplot as plt\n",
    "import brewer2mpl"
   ]
  },
  {
   "cell_type": "code",
   "execution_count": 2,
   "metadata": {},
   "outputs": [],
   "source": [
    "def exp_smooth(tab, alpha):\n",
    "    smooth = [tab[0]]\n",
    "    for i in range(len(tab)-1):\n",
    "        smooth.append(alpha*tab[1+i]+(1-alpha)*smooth[i])\n",
    "    return smooth"
   ]
  },
  {
   "cell_type": "code",
   "execution_count": 22,
   "metadata": {},
   "outputs": [],
   "source": [
    "LOGDIR = '../results/'\n",
    "PARAMS = ['_delta_None_goal_False_hindsight_False_reset_True_',\n",
    "          '_delta_None_goal_True_hindsight_False_reset_True']\n",
    "param_eval = {}"
   ]
  },
  {
   "cell_type": "code",
   "execution_count": 25,
   "metadata": {
    "scrolled": true
   },
   "outputs": [],
   "source": [
    "for param in PARAMS:\n",
    "    res_files = glob.glob(LOGDIR+param+'/2017*/'+'progress.json')\n",
    "    sum_eval_rewards  = [0]*50\n",
    "    episodes = range(10,500,10)\n",
    "    for filename in res_files:\n",
    "        with open(filename, 'r') as json_data:\n",
    "            lines = json_data.readlines()\n",
    "            eval_rewards  = []\n",
    "            for line in lines:\n",
    "                episode_data = json.loads(line)\n",
    "                if 'Eval_reward' in episode_data:\n",
    "                    eval_rewards.append(episode_data['Eval_reward'])\n",
    "            sum_eval_rewards = [x+y for x,y in zip(sum_eval_rewards, eval_rewards)]\n",
    "    mean_eval_rewards = [x/len(res_files) for x in sum_eval_rewards]\n",
    "    param_eval[param] = mean_eval_rewards"
   ]
  },
  {
   "cell_type": "code",
   "execution_count": 24,
   "metadata": {},
   "outputs": [
    {
     "data": {
      "image/png": "[encoded data removed]",
      "text/plain": [
       "<matplotlib.figure.Figure at 0x7fa743017d68>"
      ]
     },
     "metadata": {},
     "output_type": "display_data"
    }
   ],
   "source": [
    "# brewer2mpl.get_map args: set name  set type  number of colors\n",
    "bmap = brewer2mpl.get_map('Set2', 'qualitative', 8)\n",
    "colors = bmap.mpl_colors\n",
    "fig = plt.figure()\n",
    "fig.subplots_adjust(left=0.12, bottom=0.12, right=0.99, top=0.99, wspace=0.1)\n",
    "ax1 = fig.add_subplot(111)\n",
    "\n",
    "ax1.grid(axis='y', color=\"0.9\", linestyle='-', linewidth=1)\n",
    "ax1.spines['top'].set_visible(False)\n",
    "ax1.spines['right'].set_visible(False)\n",
    "ax1.spines['left'].set_visible(False)\n",
    "ax1.get_xaxis().tick_bottom()\n",
    "ax1.get_yaxis().tick_left()\n",
    "ax1.tick_params(axis='x', direction='out')\n",
    "ax1.tick_params(axis='y', length=0)\n",
    "for spine in ax1.spines.values():\n",
    "    spine.set_position(('outward', 5))\n",
    "ax1.set_xlim(0, 500)\n",
    "ax1.set_ylim(-10, 100)\n",
    "ax1.set_yticks(np.arange(-10, 100, 10))\n",
    "ax1.set_xlabel(\"Episode\")\n",
    "ax1.set_ylabel(\"Reward per episode\")\n",
    "ax1.set_xticks(np.arange(0, 500, 100))\n",
    "\n",
    "for key,val in param_eval.items():\n",
    "    params_names = key.split('_')[1::2]\n",
    "    params_val = key.split('_')[2::2]\n",
    "    params_dict = dict(zip(params_names,params_val))\n",
    "    l = 'solid'\n",
    "    marker = 'o'\n",
    "    label = ''\n",
    "    if params_dict['goal']=='True':\n",
    "        c = colors[0]\n",
    "        label += 'with goal, '\n",
    "    if params_dict['goal']=='False':\n",
    "        c = colors[1]\n",
    "        label += 'without goal, '\n",
    "    if params_dict['delta']=='1':\n",
    "        l='dashed'\n",
    "        label += 'clipping 1, '\n",
    "    if params_dict['reset']=='False':\n",
    "        marker='*'\n",
    "        label += 'no reset, '\n",
    "    x = range(10,500,10)\n",
    "    ax1.plot(x, exp_smooth(val,0.5), linewidth=1, color=c, linestyle=l, marker=marker, markersize=4, label=label)\n",
    "legend = ax1.legend(loc=0)"
   ]
  },
  {
   "cell_type": "code",
   "execution_count": null,
   "metadata": {},
   "outputs": [],
   "source": []
  }
 ],
 "metadata": {
  "kernelspec": {
   "display_name": "Python 3",
   "language": "python",
   "name": "python3"
  },
  "language_info": {
   "codemirror_mode": {
    "name": "ipython",
    "version": 3
   },
   "file_extension": ".py",
   "mimetype": "text/x-python",
   "name": "python",
   "nbconvert_exporter": "python",
   "pygments_lexer": "ipython3",
   "version": "3.5.2"
  }
 },
 "nbformat": 4,
 "nbformat_minor": 2
}
