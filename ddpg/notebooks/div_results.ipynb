{
 "cells": [
  {
   "cell_type": "code",
   "execution_count": 1,
   "metadata": {
    "collapsed": true
   },
   "outputs": [],
   "source": [
    "import pickle\n",
    "import numpy\n",
    "import matplotlib.pyplot as plt\n",
    "import os"
   ]
  },
  {
   "cell_type": "code",
   "execution_count": 2,
   "metadata": {
    "collapsed": true
   },
   "outputs": [],
   "source": [
    "def courbe2(liste, steps_total, total_stable):\n",
    "    sorted_liste = sorted(liste)\n",
    "    result = []\n",
    "    nb_instable = 0\n",
    "    if len(sorted_liste)>0:\n",
    "        current_inst = sorted_liste.pop(0)\n",
    "    else:\n",
    "        current_inst = steps_total+2\n",
    "    for x in range(1, steps_total+1):\n",
    "        while x >= current_inst:\n",
    "            nb_instable += 1\n",
    "            if len(sorted_liste)>0:\n",
    "                current_inst = sorted_liste.pop(0)\n",
    "            else:\n",
    "                current_inst = steps_total+2\n",
    "                break  \n",
    "        #print(\"post x \",x,\" nb_inst \",nb_instable,\" current_inst \",current_inst,\" len \",len(sorted_liste))\n",
    "        #print(\"------\")\n",
    "        result.append(total_stable-nb_instable)\n",
    "    return result"
   ]
  },
  {
   "cell_type": "code",
   "execution_count": 3,
   "metadata": {
    "collapsed": true
   },
   "outputs": [],
   "source": [
    "def plot(all):\n",
    "    plt.figure(1, figsize=(13,10))\n",
    "    plt.xlabel(\"time steps\")\n",
    "    plt.ylabel(\"% stable\")\n",
    "    plt.title(\"Stability profiles varying delta_clip \")\n",
    "    \n",
    "    for delta in sorted(all.keys(),key=float):\n",
    "        data = all.get(delta)\n",
    "        plt.plot(courbe2(data,100000,100),label=delta)\n",
    "    plt.legend()\n",
    "    plt.show(block = True)       "
   ]
  },
  {
   "cell_type": "code",
   "execution_count": 4,
   "metadata": {},
   "outputs": [
    {
     "data": {
      "image/png": "[encoded data removed]",
      "text/plain": [
       "<matplotlib.figure.Figure at 0x7fc28faf4208>"
      ]
     },
     "metadata": {},
     "output_type": "display_data"
    }
   ],
   "source": [
    "all_steps_termination = {}\n",
    "experiment_root = \"../experiments/perf/\"\n",
    "for delta in os.listdir(experiment_root):\n",
    "    steps_termination = []\n",
    "    experiment_path = experiment_root + delta + \"/\"\n",
    "    for file in os.listdir(experiment_path):\n",
    "        filename = experiment_path + file + \"/data/div.p\"\n",
    "        if os.path.isfile(filename):\n",
    "            with open(filename, \"rb\") as fd:\n",
    "                steps_termination.append(pickle.load(fd)[\"steps\"] - 200)\n",
    "    all_steps_termination[delta] = steps_termination\n",
    "plot(all_steps_termination)"
   ]
  },
  {
   "cell_type": "code",
   "execution_count": 36,
   "metadata": {
    "scrolled": true
   },
   "outputs": [
    {
     "data": {
      "text/plain": [
       "[20, 19, 18, 15, 14, 14, 13, 13, 11, 11, 11, 9, 9, 9, 9]"
      ]
     },
     "execution_count": 36,
     "metadata": {},
     "output_type": "execute_result"
    }
   ],
   "source": [
    "courbe2([2, 7, 9, 3, 4, 9, 5, 4, 4, 12,12], 15, 20)"
   ]
  }
 ],
 "metadata": {
  "kernelspec": {
   "display_name": "Python 3",
   "language": "python",
   "name": "python3"
  },
  "language_info": {
   "codemirror_mode": {
    "name": "ipython",
    "version": 3
   },
   "file_extension": ".py",
   "mimetype": "text/x-python",
   "name": "python",
   "nbconvert_exporter": "python",
   "pygments_lexer": "ipython3",
   "version": "3.6.2"
  }
 },
 "nbformat": 4,
 "nbformat_minor": 2
}
