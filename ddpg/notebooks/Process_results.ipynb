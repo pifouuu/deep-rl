{
 "cells": [
  {
   "cell_type": "code",
   "execution_count": 36,
   "metadata": {},
   "outputs": [],
   "source": [
    "%matplotlib inline\n",
    "import json\n",
    "import numpy as np"
   ]
  },
  {
   "cell_type": "code",
   "execution_count": 37,
   "metadata": {},
   "outputs": [
    {
     "name": "stdout",
     "output_type": "stream",
     "text": [
      "['../results/_tau_0.001_batchsize_64_goal_True_hindsight_False_eval_True_2017_11_14_16_11_36/progress.json', '../results/_tau_0.001_batchsize_64_goal_True_hindsight_False_eval_True_2017_11_14_16_13_11/progress.json', '../results/_tau_0.001_batchsize_64_goal_True_hindsight_False_eval_True_2017_11_14_16_14_59/progress.json']\n"
     ]
    }
   ],
   "source": [
    "SUMMARY_DIR = '../results/'\n",
    "dirs = ['_tau_0.001_batchsize_64_goal_True_hindsight_False_eval_True_2017_11_14_16_11_36',\n",
    "       '_tau_0.001_batchsize_64_goal_True_hindsight_False_eval_True_2017_11_14_16_13_11',\n",
    "       '_tau_0.001_batchsize_64_goal_True_hindsight_False_eval_True_2017_11_14_16_14_59']\n",
    "filenames = [SUMMARY_DIR + dir+'/progress.json' for dir in dirs]\n",
    "print(filenames)"
   ]
  },
  {
   "cell_type": "code",
   "execution_count": 38,
   "metadata": {},
   "outputs": [],
   "source": [
    "mean_reward = [0]*20\n",
    "mean_qmax_value = []\n",
    "mean_critic_loss = []\n",
    "mean_q_mean = []\n",
    "mean_q_std = []\n",
    "mean_action_mean = []\n",
    "mean_action_std = []\n",
    "mean_eval_reward = []"
   ]
  },
  {
   "cell_type": "code",
   "execution_count": 39,
   "metadata": {},
   "outputs": [],
   "source": [
    "for filename in filenames:\n",
    "    reward = []\n",
    "    qmax_value = []\n",
    "    critic_loss = []\n",
    "    q_mean = []\n",
    "    q_std = []\n",
    "    action_mean = []\n",
    "    action_std = []\n",
    "    eval_reward = []\n",
    "    with open(filename, 'r') as json_data:\n",
    "        lines = json_data.readlines()\n",
    "        episode = 0\n",
    "        for line in lines:\n",
    "\n",
    "            episode_data = json.loads(line)\n",
    "\n",
    "            episode = episode_data['episode']\n",
    "\n",
    "            if 'Eval_reward' in episode_data:\n",
    "                eval_reward.append(episode_data['Eval_reward'])\n",
    "            if 'Reward' in episode_data:\n",
    "                reward.append(episode_data['Reward'])\n",
    "            if 'Qmax_value' in episode_data:\n",
    "                qmax_value.append(episode_data['Qmax_value'])\n",
    "            if 'reference_Q_mean' in episode_data:\n",
    "                q_mean.append(episode_data['reference_Q_mean'])\n",
    "            if 'reference_Q_std' in episode_data:\n",
    "                q_std.append(episode_data['reference_Q_std'])\n",
    "            if 'Critic_loss' in episode_data:\n",
    "                critic_loss.append(episode_data['Critic_loss'])\n",
    "            if 'reference_action_mean' in episode_data:\n",
    "                action_mean.append(episode_data['reference_action_mean'])\n",
    "            if 'reference_action_std' in episode_data:\n",
    "                action_std.append(episode_data['reference_action_std'])\n",
    "                \n",
    "    mean_reward = [x+y for x,y in zip(mean_reward, reward)]\n"
   ]
  },
  {
   "cell_type": "code",
   "execution_count": 40,
   "metadata": {},
   "outputs": [],
   "source": [
    "import matplotlib.pyplot as plt"
   ]
  },
  {
   "cell_type": "code",
   "execution_count": 41,
   "metadata": {},
   "outputs": [
    {
     "name": "stdout",
     "output_type": "stream",
     "text": [
      "[-38.87643498775078, -62.615880870229965, 66.46334625844081, 1.5237958943072698, -26.601244275012263, 18.871450818754553, 27.411942524986298, -59.16086763925051, -113.02409435434596, -129.08195097038845, 124.24049666492817, -203.26345726317157, 8.417056041140086, 7.935043220394647, 78.3623327274782, 187.25454136368944, 48.41035932395904, -4.787408390622147, 24.537566342058348, 289.6987437168837]\n"
     ]
    }
   ],
   "source": [
    "print(mean_reward)"
   ]
  },
  {
   "cell_type": "code",
   "execution_count": 42,
   "metadata": {},
   "outputs": [
    {
     "data": {
      "text/plain": [
       "[<matplotlib.lines.Line2D at 0x7fe3a9419da0>]"
      ]
     },
     "execution_count": 42,
     "metadata": {},
     "output_type": "execute_result"
    },
    {
     "data": {
      "image/png": "[encoded data removed]",
      "text/plain": [
       "<matplotlib.figure.Figure at 0x7fe39caa6668>"
      ]
     },
     "metadata": {},
     "output_type": "display_data"
    }
   ],
   "source": [
    "plt.plot(range(20), [x/3 for x in mean_reward])"
   ]
  },
  {
   "cell_type": "code",
   "execution_count": null,
   "metadata": {},
   "outputs": [],
   "source": []
  }
 ],
 "metadata": {
  "kernelspec": {
   "display_name": "Python 3",
   "language": "python",
   "name": "python3"
  },
  "language_info": {
   "codemirror_mode": {
    "name": "ipython",
    "version": 3
   },
   "file_extension": ".py",
   "mimetype": "text/x-python",
   "name": "python",
   "nbconvert_exporter": "python",
   "pygments_lexer": "ipython3",
   "version": "3.5.2"
  }
 },
 "nbformat": 4,
 "nbformat_minor": 2
}
